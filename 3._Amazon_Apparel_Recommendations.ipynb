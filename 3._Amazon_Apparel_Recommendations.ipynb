{
 "cells": [
  {
   "cell_type": "markdown",
   "metadata": {},
   "source": [
    "<p style=\"font-size:32px;text-align:center\"><b><font color=DarkMagenta>Amazon Apparel Recommendations</font></b></p>\n",
    "<p style=\"font-size:20px;text-align:center\"><b><font color=DarkGoldenRod>Part 3</font></b></p>"
   ]
  },
  {
   "cell_type": "markdown",
   "metadata": {},
   "source": [
    "<p style=\"font-size:22px;text-align:center\"><b><font color=Turquoise>Deep Learning Based Visual Product Similarity - CNN</font></b></p>"
   ]
  },
  {
   "cell_type": "markdown",
   "metadata": {},
   "source": [
    "<p style=\"text-size:15px\">\n",
    "Till now, we have been used **Titles**, **Brand** and **Color** for product similarity.<br>\n",
    "**For Titles, we used BoW, TF IDF and Word2Vec** techniques and **For Brand & Color, we used One Hot Encoding** technique.<br><br>\n",
    "    \n",
    "There is one more very interesting parameter **Product Image Url**.<br>\n",
    "For every product we have **url** for product Image and with the help of url we can download the product Image.<br><br>\n",
    "    \n",
    "Now the question is **How to featurize an image OR How to convert an Image to n-dimensional vector ?**<br><br>\n",
    "    \n",
    "We can convert an Image to n-dimensional vector using **Deep Learning** technique called **Convolutional Neural Network (CNN/ConvNets)**.<br><br>\n",
    "\n",
    "Since 2012, Google, Microsoft, Baidu, Nvidia, Facebook, Amazon and lots of companies & also some of universities like Oxford trained special ConvNets which works well.<br>\n",
    "There are multiple ConvNets like **AlexNets, VGG16, VGG19, ResNet** which used to convert an Image to n-dimensional vector. We will employ one of these algorithms.\n",
    "<br><br>\n",
    "Training and desgining good ConvNets is very very expensive as it requires lots of hardwares, requires lots of expertise.\n",
    "<br><br>\n",
    "If two Image are very similar then the euclidean distance between two vectors of Image is very small.</p>"
   ]
  },
  {
   "cell_type": "markdown",
   "metadata": {},
   "source": [
    "<h3><font color=MediumVioletRed>Keras and Tensorflow To Extract Features</font></h3>"
   ]
  },
  {
   "cell_type": "markdown",
   "metadata": {},
   "source": [
    "<p style=\"text-size:15px\">\n",
    "- There are multiple types of **Convolutional Neural Network (CNN/ConvNets)**, as already mentioned above. We are going to use one of the very popolar ConvNet - **VGG16**.<br>\n",
    "- **VGG16** (also called OxfordNet) is a Convolutional Neural Network architecture named after the **Visual Geometry Group** from **Oxford**, who developed it.\n",
    "<br><br>\n",
    "Now to compute the n-dimensional vector from given Image, we will use two very popular libraries **Keras** and **Tensorflow**.\n",
    "<br>\n",
    "- **Tensorflow** is deep learning library which is designed and built at **Google** which is open source library.<br>\n",
    "- Similarly, **Keras** is also popular open source library which simplifies building CNNs and other types of Neural Networks very easily.</p>"
   ]
  },
  {
   "cell_type": "code",
   "execution_count": 1,
   "metadata": {},
   "outputs": [],
   "source": [
    "import numpy as np\n",
    "from keras.preprocessing.image import ImageDataGenerator\n",
    "from keras.models import Sequential\n",
    "from keras.layers import Dropout, Flatten, Dense\n",
    "from keras import applications\n",
    "from sklearn.metrics import pairwise_distances\n",
    "import matplotlib.pyplot as plt\n",
    "import requests\n",
    "from PIL import Image\n",
    "import pandas as pd\n",
    "import pickle\n",
    "from IPython.display import display, Image, SVG, Math, YouTubeVideo"
   ]
  },
  {
   "cell_type": "code",
   "execution_count": 3,
   "metadata": {},
   "outputs": [],
   "source": [
    "import warnings\n",
    "warnings.filterwarnings(\"ignore\")\n",
    "\n",
    "import os\n",
    "os.chdir(\"D:/Amazon Apparel Recommendation Engine\")"
   ]
  },
  {
   "cell_type": "code",
   "execution_count": 4,
   "metadata": {},
   "outputs": [],
   "source": [
    "#ref: https://gist.github.com/fchollet/f35fbc80e066a49d65f1688a7e99f069\n",
    "#code_reference: https://blog.keras.io/building-powerful-image-classification-models-using-very-little-data.html\n",
    "\n",
    "#this code takes 40 minutes to run on a modern GPU (graphics card) like Nvidia  1050\n",
    "#GPU (NVidia 1050): 0.175 seconds per image\n",
    "\n",
    "#this codse takes 160 minutes to run on a high end i7 CPU\n",
    "#CPU (i7): 0.615 seconds per image.\n",
    "\n",
    "#each image is converted into 25088 length dense-vector\n",
    "\n",
    "'''\n",
    "#dimensions of our images.\n",
    "img_width, img_height = 224, 224\n",
    "\n",
    "top_model_weights_path = 'bottleneck_fc_model.h5'\n",
    "train_data_dir = 'images2/'\n",
    "nb_train_samples = 16042\n",
    "epochs = 50\n",
    "batch_size = 1\n",
    "\n",
    "\n",
    "def save_bottlebeck_features():\n",
    "    #function to compute VGG-16 CNN for image feature extraction.\n",
    "    \n",
    "    asins = []\n",
    "    datagen = ImageDataGenerator(rescale=1. / 255)\n",
    "    \n",
    "    #build the VGG16 network\n",
    "    model = applications.VGG16(include_top=False, weights='imagenet')\n",
    "    generator = datagen.flow_from_directory(\n",
    "        train_data_dir,\n",
    "        target_size=(img_width, img_height),\n",
    "        batch_size=batch_size,\n",
    "        class_mode=None,\n",
    "        shuffle=False)\n",
    "\n",
    "    for i in generator.filenames:\n",
    "        asins.append(i[2:-5])\n",
    "\n",
    "    bottleneck_features_train = model.predict_generator(generator, nb_train_samples // batch_size)\n",
    "    bottleneck_features_train = bottleneck_features_train.reshape((16042,25088))\n",
    "    \n",
    "    np.save(open('16k_Products_Data_CNN.npy', 'wb'), bottleneck_features_train)\n",
    "    np.save(open('16k_Products_Data_CNN_asins.npy', 'wb'), np.array(asins))\n",
    "    \n",
    "\n",
    "save_bottlebeck_features()\n",
    "'''"
   ]
  },
  {
   "cell_type": "markdown",
   "metadata": {},
   "source": [
    "<h3><font color=MediumVioletRed>Loading Data</font></h3>"
   ]
  },
  {
   "cell_type": "code",
   "execution_count": 5,
   "metadata": {},
   "outputs": [],
   "source": [
    "#load the original 16k_preprocessed dataset\n",
    "apparel_data = pd.read_pickle(\"Saved Files/16k_Prep_Products_Data\")"
   ]
  },
  {
   "cell_type": "code",
   "execution_count": 6,
   "metadata": {},
   "outputs": [],
   "source": [
    "#load the features and corresponding ASINS info\n",
    "bottleneck_features_train = np.load('16k_Products_Data_CNN.npy')\n",
    "\n",
    "asins = np.load('16k_Products_Data_CNN_asins.npy')\n",
    "asins = list(asins)"
   ]
  },
  {
   "cell_type": "markdown",
   "metadata": {},
   "source": [
    "<p style=\"font-size:15px\"><b><font color=Crimson>Visual Features Based Product Similarity</font></b></p>"
   ]
  },
  {
   "cell_type": "code",
   "execution_count": 7,
   "metadata": {},
   "outputs": [],
   "source": [
    "df_asins = list(apparel_data['asin'])\n",
    "\n",
    "#get similar products using CNN features (VGG-16)\n",
    "def get_similar_products_cnn(doc_id, num_results):\n",
    "    doc_id = asins.index(df_asins[doc_id])\n",
    "    pairwise_dist = pairwise_distances(bottleneck_features_train, bottleneck_features_train[doc_id].reshape(1,-1))\n",
    "\n",
    "    indices = np.argsort(pairwise_dist.flatten())[0:num_results]\n",
    "    pdists  = np.sort(pairwise_dist.flatten())[0:num_results]\n",
    "\n",
    "    for i in range(len(indices)):\n",
    "        rows = apparel_data[['medium_image_url','title']].loc[apparel_data['asin']==asins[indices[i]]]\n",
    "        for indx, row in rows.iterrows():\n",
    "            display(Image(url=row['medium_image_url'], embed=True))\n",
    "            print('Product Title: ', row['title'])\n",
    "            print('Euclidean Distance From The Query Image:', pdists[i])\n",
    "            print('Amazon URL: www.amzon.com/dp/'+ asins[indices[i]])"
   ]
  },
  {
   "cell_type": "code",
   "execution_count": 9,
   "metadata": {
    "scrolled": false
   },
   "outputs": [
    {
     "data": {
      "image/jpeg": "[encoded data removed]",
      "text/plain": [
       "<IPython.core.display.Image object>"
      ]
     },
     "metadata": {},
     "output_type": "display_data"
    },
    {
     "name": "stdout",
     "output_type": "stream",
     "text": [
      "Product Title:  annakaci sm fit blue green polka dot tie front ruffle trim blouse \n",
      "Euclidean Distance From The Query Image: 6.32596e-06\n",
      "Amazon URL: www.amzon.com/dp/B00KLHUIBS\n"
     ]
    },
    {
     "data": {
      "image/jpeg": "[encoded data removed]",
      "text/plain": [
       "<IPython.core.display.Image object>"
      ]
     },
     "metadata": {},
     "output_type": "display_data"
    },
    {
     "name": "stdout",
     "output_type": "stream",
     "text": [
      "Product Title:  eternal child womens black floral printed vneck short sleeve tunic sz new \n",
      "Euclidean Distance From The Query Image: 47.391518\n",
      "Amazon URL: www.amzon.com/dp/B0184RPZNM\n"
     ]
    },
    {
     "data": {
      "image/jpeg": "[encoded data removed]",
      "text/plain": [
       "<IPython.core.display.Image object>"
      ]
     },
     "metadata": {},
     "output_type": "display_data"
    },
    {
     "name": "stdout",
     "output_type": "stream",
     "text": [
      "Product Title:  harajuku cloud printed elastic crop tops women \n",
      "Euclidean Distance From The Query Image: 48.21552\n",
      "Amazon URL: www.amzon.com/dp/B01KQHFVP0\n"
     ]
    },
    {
     "data": {
      "image/jpeg": "[encoded data removed]",
      "text/plain": [
       "<IPython.core.display.Image object>"
      ]
     },
     "metadata": {},
     "output_type": "display_data"
    },
    {
     "name": "stdout",
     "output_type": "stream",
     "text": [
      "Product Title:  bandolino womens erin round v neck tie dyed shirt top small aqua refelction \n",
      "Euclidean Distance From The Query Image: 48.509647\n",
      "Amazon URL: www.amzon.com/dp/B00ROB8A8W\n"
     ]
    },
    {
     "data": {
      "image/jpeg": "[encoded data removed]",
      "text/plain": [
       "<IPython.core.display.Image object>"
      ]
     },
     "metadata": {},
     "output_type": "display_data"
    },
    {
     "name": "stdout",
     "output_type": "stream",
     "text": [
      "Product Title:  new kawaii cotton pastel tops tees rabbit design \n",
      "Euclidean Distance From The Query Image: 48.602116\n",
      "Amazon URL: www.amzon.com/dp/B074S5F9ZK\n"
     ]
    },
    {
     "data": {
      "image/jpeg": "[encoded data removed]",
      "text/plain": [
       "<IPython.core.display.Image object>"
      ]
     },
     "metadata": {},
     "output_type": "display_data"
    },
    {
     "name": "stdout",
     "output_type": "stream",
     "text": [
      "Product Title:  cute womens tops tees pastel rainbow print size \n",
      "Euclidean Distance From The Query Image: 48.69884\n",
      "Amazon URL: www.amzon.com/dp/B01415UNVU\n"
     ]
    },
    {
     "data": {
      "image/jpeg": "[encoded data removed]",
      "text/plain": [
       "<IPython.core.display.Image object>"
      ]
     },
     "metadata": {},
     "output_type": "display_data"
    },
    {
     "name": "stdout",
     "output_type": "stream",
     "text": [
      "Product Title:  fever ladies size small rayon blouse white  green \n",
      "Euclidean Distance From The Query Image: 48.728474\n",
      "Amazon URL: www.amzon.com/dp/B0731PMQZ2\n"
     ]
    },
    {
     "data": {
      "image/jpeg": "[encoded data removed]",
      "text/plain": [
       "<IPython.core.display.Image object>"
      ]
     },
     "metadata": {},
     "output_type": "display_data"
    },
    {
     "name": "stdout",
     "output_type": "stream",
     "text": [
      "Product Title:  style  co plus size new whit cuffed shortsleeve tee 2x 1498 dbfl \n",
      "Euclidean Distance From The Query Image: 48.86433\n",
      "Amazon URL: www.amzon.com/dp/B0178WOJVS\n"
     ]
    },
    {
     "data": {
      "image/jpeg": "[encoded data removed]",
      "text/plain": [
       "<IPython.core.display.Image object>"
      ]
     },
     "metadata": {},
     "output_type": "display_data"
    },
    {
     "name": "stdout",
     "output_type": "stream",
     "text": [
      "Product Title:  women blouses turn collar floral tops lady long sleeve shirt sxxxxl \n",
      "Euclidean Distance From The Query Image: 48.97316\n",
      "Amazon URL: www.amzon.com/dp/B07552VG9B\n"
     ]
    },
    {
     "data": {
      "image/jpeg": "[encoded data removed]",
      "text/plain": [
       "<IPython.core.display.Image object>"
      ]
     },
     "metadata": {},
     "output_type": "display_data"
    },
    {
     "name": "stdout",
     "output_type": "stream",
     "text": [
      "Product Title:  miraclebody miraclesuit womens roll sleeve long tunic sz medium ivory \n",
      "Euclidean Distance From The Query Image: 49.00902\n",
      "Amazon URL: www.amzon.com/dp/B01MUF826N\n"
     ]
    },
    {
     "data": {
      "image/jpeg": "[encoded data removed]",
      "text/plain": [
       "<IPython.core.display.Image object>"
      ]
     },
     "metadata": {},
     "output_type": "display_data"
    },
    {
     "name": "stdout",
     "output_type": "stream",
     "text": [
      "Product Title:  womens kawaii cotton pastel tops tees pink ice cream design \n",
      "Euclidean Distance From The Query Image: 49.05505\n",
      "Amazon URL: www.amzon.com/dp/B06XG3LBFC\n"
     ]
    },
    {
     "data": {
      "image/jpeg": "[encoded data removed]",
      "text/plain": [
       "<IPython.core.display.Image object>"
      ]
     },
     "metadata": {},
     "output_type": "display_data"
    },
    {
     "name": "stdout",
     "output_type": "stream",
     "text": [
      "Product Title:  op juniors plus scoop neck tank 2x 1921 zebrarose \n",
      "Euclidean Distance From The Query Image: 49.129025\n",
      "Amazon URL: www.amzon.com/dp/B06Y6KNDBG\n"
     ]
    },
    {
     "data": {
      "image/jpeg": "[encoded data removed]",
      "text/plain": [
       "<IPython.core.display.Image object>"
      ]
     },
     "metadata": {},
     "output_type": "display_data"
    },
    {
     "name": "stdout",
     "output_type": "stream",
     "text": [
      "Product Title:  womens kawaii cotton pastel tops tees ice cream pop design \n",
      "Euclidean Distance From The Query Image: 49.15118\n",
      "Amazon URL: www.amzon.com/dp/B06XG1Q7SD\n"
     ]
    },
    {
     "data": {
      "image/jpeg": "[encoded data removed]",
      "text/plain": [
       "<IPython.core.display.Image object>"
      ]
     },
     "metadata": {},
     "output_type": "display_data"
    },
    {
     "name": "stdout",
     "output_type": "stream",
     "text": [
      "Product Title:  floerns womens tropical print drawstring hem tshirt onesize multicolor \n",
      "Euclidean Distance From The Query Image: 49.156002\n",
      "Amazon URL: www.amzon.com/dp/B06VW9CZ8Y\n"
     ]
    },
    {
     "data": {
      "image/jpeg": "[encoded data removed]",
      "text/plain": [
       "<IPython.core.display.Image object>"
      ]
     },
     "metadata": {},
     "output_type": "display_data"
    },
    {
     "name": "stdout",
     "output_type": "stream",
     "text": [
      "Product Title:  merona womens blouse shell xxl \n",
      "Euclidean Distance From The Query Image: 49.20418\n",
      "Amazon URL: www.amzon.com/dp/B06ZYH5VXR\n"
     ]
    },
    {
     "data": {
      "image/jpeg": "[encoded data removed]",
      "text/plain": [
       "<IPython.core.display.Image object>"
      ]
     },
     "metadata": {},
     "output_type": "display_data"
    },
    {
     "name": "stdout",
     "output_type": "stream",
     "text": [
      "Product Title:  denim supply white lacetrim cotton swing tunic \n",
      "Euclidean Distance From The Query Image: 49.21299\n",
      "Amazon URL: www.amzon.com/dp/B06XFNJXS7\n"
     ]
    },
    {
     "data": {
      "image/jpeg": "[encoded data removed]",
      "text/plain": [
       "<IPython.core.display.Image object>"
      ]
     },
     "metadata": {},
     "output_type": "display_data"
    },
    {
     "name": "stdout",
     "output_type": "stream",
     "text": [
      "Product Title:  annakaci sm fit pink bow ribbon back trim racer detail shell style top \n",
      "Euclidean Distance From The Query Image: 49.216335\n",
      "Amazon URL: www.amzon.com/dp/B00KOBQEBO\n"
     ]
    },
    {
     "data": {
      "image/jpeg": "[encoded data removed]",
      "text/plain": [
       "<IPython.core.display.Image object>"
      ]
     },
     "metadata": {},
     "output_type": "display_data"
    },
    {
     "name": "stdout",
     "output_type": "stream",
     "text": [
      "Product Title:  tinacrochetstudio crochet summer tops designer blouse short sleeve jumpsuits \n",
      "Euclidean Distance From The Query Image: 49.22291\n",
      "Amazon URL: www.amzon.com/dp/B016YGD3TI\n"
     ]
    },
    {
     "data": {
      "image/jpeg": "[encoded data removed]",
      "text/plain": [
       "<IPython.core.display.Image object>"
      ]
     },
     "metadata": {},
     "output_type": "display_data"
    },
    {
     "name": "stdout",
     "output_type": "stream",
     "text": [
      "Product Title:  max mara womens curve tie waist button shirt sz 2 white \n",
      "Euclidean Distance From The Query Image: 49.23991\n",
      "Amazon URL: www.amzon.com/dp/B06WWJQ3P2\n"
     ]
    },
    {
     "data": {
      "image/jpeg": "[encoded data removed]",
      "text/plain": [
       "<IPython.core.display.Image object>"
      ]
     },
     "metadata": {},
     "output_type": "display_data"
    },
    {
     "name": "stdout",
     "output_type": "stream",
     "text": [
      "Product Title:  velvet graham  spencer womens buttondown cotton top small winter white \n",
      "Euclidean Distance From The Query Image: 49.280148\n",
      "Amazon URL: www.amzon.com/dp/B01MQJ2NV8\n"
     ]
    }
   ],
   "source": [
    "get_similar_products_cnn(931, 20)"
   ]
  }
 ],
 "metadata": {
  "kernelspec": {
   "display_name": "Python 3",
   "language": "python",
   "name": "python3"
  },
  "language_info": {
   "codemirror_mode": {
    "name": "ipython",
    "version": 3
   },
   "file_extension": ".py",
   "mimetype": "text/x-python",
   "name": "python",
   "nbconvert_exporter": "python",
   "pygments_lexer": "ipython3",
   "version": "3.6.5"
  }
 },
 "nbformat": 4,
 "nbformat_minor": 2
}
