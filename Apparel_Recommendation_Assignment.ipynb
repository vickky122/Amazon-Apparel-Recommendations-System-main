{
 "cells": [
  {
   "cell_type": "markdown",
   "metadata": {},
   "source": [
    "<p style=\"font-size:32px;text-align:center\"><b><font color=DarkMagenta>Amazon Apparel Recommendations</font></b></p>"
   ]
  },
  {
   "cell_type": "markdown",
   "metadata": {},
   "source": [
    "<h3><font color=MediumVioletRed>Loading Data</font></h3>"
   ]
  },
  {
   "cell_type": "code",
   "execution_count": 2,
   "metadata": {},
   "outputs": [],
   "source": [
    "import warnings\n",
    "warnings.filterwarnings(\"ignore\")\n",
    "\n",
    "import pandas as pd\n",
    "import pickle\n",
    "import numpy as np\n",
    "import matplotlib.pyplot as plt\n",
    "import seaborn as sns\n",
    "\n",
    "from PIL import Image\n",
    "import requests\n",
    "from io import BytesIO\n",
    "from matplotlib import gridspec\n",
    "\n",
    "from sklearn.metrics import pairwise_distances\n",
    "from IPython.display import display, Image, SVG, Math, YouTubeVideo\n",
    "\n",
    "import os\n",
    "os.chdir(\"D:/Amazon Apparel Recommendations\")"
   ]
  },
  {
   "cell_type": "code",
   "execution_count": 3,
   "metadata": {},
   "outputs": [],
   "source": [
    "#read the data from pickle file as we saved at the end of part1\n",
    "apparel_data = pd.read_pickle(\"16k_apperal_data_preprocessed\")"
   ]
  },
  {
   "cell_type": "code",
   "execution_count": 4,
   "metadata": {},
   "outputs": [
    {
     "data": {
      "text/html": [
       "<div>\n",
       "<style scoped>\n",
       "    .dataframe tbody tr th:only-of-type {\n",
       "        vertical-align: middle;\n",
       "    }\n",
       "\n",
       "    .dataframe tbody tr th {\n",
       "        vertical-align: top;\n",
       "    }\n",
       "\n",
       "    .dataframe thead th {\n",
       "        text-align: right;\n",
       "    }\n",
       "</style>\n",
       "<table border=\"1\" class=\"dataframe\">\n",
       "  <thead>\n",
       "    <tr style=\"text-align: right;\">\n",
       "      <th></th>\n",
       "      <th>asin</th>\n",
       "      <th>brand</th>\n",
       "      <th>color</th>\n",
       "      <th>medium_image_url</th>\n",
       "      <th>product_type_name</th>\n",
       "      <th>title</th>\n",
       "      <th>formatted_price</th>\n",
       "    </tr>\n",
       "  </thead>\n",
       "  <tbody>\n",
       "    <tr>\n",
       "      <th>4</th>\n",
       "      <td>B004GSI2OS</td>\n",
       "      <td>FeatherLite</td>\n",
       "      <td>Onyx Black/ Stone</td>\n",
       "      <td>https://images-na.ssl-images-amazon.com/images...</td>\n",
       "      <td>SHIRT</td>\n",
       "      <td>featherlite ladies long sleeve stain resistant...</td>\n",
       "      <td>$26.26</td>\n",
       "    </tr>\n",
       "    <tr>\n",
       "      <th>6</th>\n",
       "      <td>B012YX2ZPI</td>\n",
       "      <td>HX-Kingdom Fashion T-shirts</td>\n",
       "      <td>White</td>\n",
       "      <td>https://images-na.ssl-images-amazon.com/images...</td>\n",
       "      <td>SHIRT</td>\n",
       "      <td>womens unique 100 cotton  special olympics wor...</td>\n",
       "      <td>$9.99</td>\n",
       "    </tr>\n",
       "    <tr>\n",
       "      <th>15</th>\n",
       "      <td>B003BSRPB0</td>\n",
       "      <td>FeatherLite</td>\n",
       "      <td>White</td>\n",
       "      <td>https://images-na.ssl-images-amazon.com/images...</td>\n",
       "      <td>SHIRT</td>\n",
       "      <td>featherlite ladies moisture free mesh sport sh...</td>\n",
       "      <td>$20.54</td>\n",
       "    </tr>\n",
       "    <tr>\n",
       "      <th>27</th>\n",
       "      <td>B014ICEJ1Q</td>\n",
       "      <td>FNC7C</td>\n",
       "      <td>Purple</td>\n",
       "      <td>https://images-na.ssl-images-amazon.com/images...</td>\n",
       "      <td>SHIRT</td>\n",
       "      <td>supernatural chibis sam dean castiel neck tshi...</td>\n",
       "      <td>$7.39</td>\n",
       "    </tr>\n",
       "    <tr>\n",
       "      <th>46</th>\n",
       "      <td>B01NACPBG2</td>\n",
       "      <td>Fifth Degree</td>\n",
       "      <td>Black</td>\n",
       "      <td>https://images-na.ssl-images-amazon.com/images...</td>\n",
       "      <td>SHIRT</td>\n",
       "      <td>fifth degree womens gold foil graphic tees jun...</td>\n",
       "      <td>$6.95</td>\n",
       "    </tr>\n",
       "  </tbody>\n",
       "</table>\n",
       "</div>"
      ],
      "text/plain": [
       "          asin                        brand              color  \\\n",
       "4   B004GSI2OS                  FeatherLite  Onyx Black/ Stone   \n",
       "6   B012YX2ZPI  HX-Kingdom Fashion T-shirts              White   \n",
       "15  B003BSRPB0                  FeatherLite              White   \n",
       "27  B014ICEJ1Q                        FNC7C             Purple   \n",
       "46  B01NACPBG2                 Fifth Degree              Black   \n",
       "\n",
       "                                     medium_image_url product_type_name  \\\n",
       "4   https://images-na.ssl-images-amazon.com/images...             SHIRT   \n",
       "6   https://images-na.ssl-images-amazon.com/images...             SHIRT   \n",
       "15  https://images-na.ssl-images-amazon.com/images...             SHIRT   \n",
       "27  https://images-na.ssl-images-amazon.com/images...             SHIRT   \n",
       "46  https://images-na.ssl-images-amazon.com/images...             SHIRT   \n",
       "\n",
       "                                                title formatted_price  \n",
       "4   featherlite ladies long sleeve stain resistant...          $26.26  \n",
       "6   womens unique 100 cotton  special olympics wor...           $9.99  \n",
       "15  featherlite ladies moisture free mesh sport sh...          $20.54  \n",
       "27  supernatural chibis sam dean castiel neck tshi...           $7.39  \n",
       "46  fifth degree womens gold foil graphic tees jun...           $6.95  "
      ]
     },
     "execution_count": 4,
     "metadata": {},
     "output_type": "execute_result"
    }
   ],
   "source": [
    "apparel_data.head()"
   ]
  },
  {
   "cell_type": "code",
   "execution_count": 5,
   "metadata": {},
   "outputs": [
    {
     "name": "stdout",
     "output_type": "stream",
     "text": [
      "NUMBER OF DATA-POINTS - 16042\n",
      "NUMBER OF FEATURES/COLUMNS - 7\n"
     ]
    }
   ],
   "source": [
    "print(\"NUMBER OF DATA-POINTS -\",apparel_data.shape[0])\n",
    "print(\"NUMBER OF FEATURES/COLUMNS -\",apparel_data.shape[1])"
   ]
  },
  {
   "cell_type": "markdown",
   "metadata": {},
   "source": [
    "<p style=\"font-size:22px;text-align:center\"><b><font color=Turquoise>Title (Text) Based Product Similarity</font></b></p>"
   ]
  },
  {
   "cell_type": "markdown",
   "metadata": {},
   "source": [
    "<h3><b><font color=Crimson>1 - Bag of Words (BoW)</font></b></h3>"
   ]
  },
  {
   "cell_type": "code",
   "execution_count": 6,
   "metadata": {},
   "outputs": [],
   "source": [
    "from sklearn.feature_extraction.text import CountVectorizer\n",
    "bow_title_vectorizer = CountVectorizer()\n",
    "bow_title_features = bow_title_vectorizer.fit_transform(apparel_data['title'])"
   ]
  },
  {
   "cell_type": "code",
   "execution_count": 7,
   "metadata": {},
   "outputs": [
    {
     "data": {
      "text/plain": [
       "(16042, 12609)"
      ]
     },
     "execution_count": 7,
     "metadata": {},
     "output_type": "execute_result"
    }
   ],
   "source": [
    "bow_title_features.get_shape() #get number of rows and columns in feature matrix"
   ]
  },
  {
   "cell_type": "markdown",
   "metadata": {},
   "source": [
    "<h3><b><font color=Crimson>2 - TF IDF</font></b></h3>"
   ]
  },
  {
   "cell_type": "code",
   "execution_count": 8,
   "metadata": {},
   "outputs": [],
   "source": [
    "from sklearn.feature_extraction.text import TfidfVectorizer\n",
    "\n",
    "tfidf_title_vectorizer = TfidfVectorizer(min_df = 0)\n",
    "tfidf_title_features = tfidf_title_vectorizer.fit_transform(apparel_data['title'])"
   ]
  },
  {
   "cell_type": "code",
   "execution_count": 9,
   "metadata": {},
   "outputs": [
    {
     "data": {
      "text/plain": [
       "(16042, 12609)"
      ]
     },
     "execution_count": 9,
     "metadata": {},
     "output_type": "execute_result"
    }
   ],
   "source": [
    "tfidf_title_features.get_shape() #get number of rows and columns in feature matrix"
   ]
  },
  {
   "cell_type": "markdown",
   "metadata": {},
   "source": [
    "<h3><b><font color=Coral>3. Text Semantics Based Product Similarity</font></b></h3>"
   ]
  },
  {
   "cell_type": "code",
   "execution_count": 10,
   "metadata": {},
   "outputs": [],
   "source": [
    "from gensim.models import Word2Vec\n",
    "from gensim.models import KeyedVectors\n",
    "\n",
    "with open('word2vec_model', 'rb') as handle:\n",
    "    model = pickle.load(handle)"
   ]
  },
  {
   "cell_type": "code",
   "execution_count": 11,
   "metadata": {},
   "outputs": [
    {
     "data": {
      "text/plain": [
       "(16042, 12609)"
      ]
     },
     "execution_count": 11,
     "metadata": {},
     "output_type": "execute_result"
    }
   ],
   "source": [
    "idf_title_vectorizer = CountVectorizer()\n",
    "idf_title_features = idf_title_vectorizer.fit_transform(apparel_data['title'])\n",
    "idf_title_features.get_shape() #get number of rows and columns in feature matrix"
   ]
  },
  {
   "cell_type": "code",
   "execution_count": 12,
   "metadata": {},
   "outputs": [],
   "source": [
    "#vocab = stores all the words that are there in google w2v model\n",
    "#vocab = model.wv.vocab.keys() # if you are using Google word2Vec\n",
    "vocab = model.keys()\n",
    "#this function will add the vectors of each word and returns the avg vector of given sentance\n",
    "\n",
    "def build_avg_vec(sentence, num_features, doc_id, m_name):\n",
    "    #sentace: its title of the apparel\n",
    "    #num_features: the lenght of word2vec vector, its values = 300\n",
    "    #m_name: model information it will take two values\n",
    "        #if  m_name == 'avg', we will append the model[i], w2v representation of word i\n",
    "        #if m_name == 'weighted', we will multiply each w2v[word] with the idf(word)\n",
    "\n",
    "    featureVec = np.zeros((num_features), dtype=\"float32\")\n",
    "    #we will intialize a vector of size 300 with all zeros\n",
    "    #we add each word2vec(wordi) to this fetureVec\n",
    "    nwords = 0\n",
    "    \n",
    "    for word in sentence.split():\n",
    "        nwords += 1\n",
    "        if word in vocab:\n",
    "            if m_name == 'idf_weighted' and word in idf_title_vectorizer.vocabulary_:\n",
    "                featureVec = np.add(featureVec, idf_title_features[doc_id, idf_title_vectorizer.vocabulary_[word]] * model[word])\n",
    "            elif m_name == 'avg':\n",
    "                featureVec = np.add(featureVec, model[word])\n",
    "            elif m_name == 'tf_idf_weighted'and word in tfidf_title_vectorizer.vocabulary_:\n",
    "                featureVec = np.add(featureVec, tfidf_title_features[doc_id, tfidf_title_vectorizer.vocabulary_[word]] * model[word])\n",
    "    if(nwords>0):\n",
    "        featureVec = np.divide(featureVec, nwords)\n",
    "    #returns the avg vector of given sentance, its of shape (1, 300)\n",
    "    return featureVec"
   ]
  },
  {
   "cell_type": "markdown",
   "metadata": {},
   "source": [
    "<h3><b><font color=Crimson>3.a - Average Word2Vec</font></b></h3>"
   ]
  },
  {
   "cell_type": "code",
   "execution_count": 14,
   "metadata": {},
   "outputs": [],
   "source": [
    "doc_id = 0\n",
    "avg_w2v_title = []\n",
    "#for every title we build a avg vector representation\n",
    "for i in apparel_data['title']:\n",
    "    avg_w2v_title.append(build_avg_vec(i, 300, doc_id,'avg'))\n",
    "    doc_id += 1\n",
    "\n",
    "#avg_w2v_title = np.array(# number of doc in courpus * 300), each row corresponds to a doc \n",
    "avg_w2v_title = np.array(avg_w2v_title)"
   ]
  },
  {
   "cell_type": "code",
   "execution_count": 15,
   "metadata": {},
   "outputs": [
    {
     "data": {
      "text/plain": [
       "(16042, 300)"
      ]
     },
     "execution_count": 15,
     "metadata": {},
     "output_type": "execute_result"
    }
   ],
   "source": [
    "avg_w2v_title.shape"
   ]
  },
  {
   "cell_type": "markdown",
   "metadata": {},
   "source": [
    "<h3><b><font color=Crimson>3.b - IDF Weighted Word2Vec</font></b></h3>"
   ]
  },
  {
   "cell_type": "code",
   "execution_count": 16,
   "metadata": {},
   "outputs": [],
   "source": [
    "doc_id = 0\n",
    "idf_w2v_title_weight = []\n",
    "#for every title we build a weighted vector representation\n",
    "for i in apparel_data['title']:\n",
    "    idf_w2v_title_weight.append(build_avg_vec(i, 300, doc_id,'idf_weighted'))\n",
    "    doc_id += 1\n",
    "#w2v_title = np.array(# number of doc in courpus * 300), each row corresponds to a doc \n",
    "idf_w2v_title_weight = np.array(idf_w2v_title_weight)"
   ]
  },
  {
   "cell_type": "code",
   "execution_count": 17,
   "metadata": {},
   "outputs": [
    {
     "data": {
      "text/plain": [
       "(16042, 300)"
      ]
     },
     "execution_count": 17,
     "metadata": {},
     "output_type": "execute_result"
    }
   ],
   "source": [
    "idf_w2v_title_weight.shape"
   ]
  },
  {
   "cell_type": "markdown",
   "metadata": {},
   "source": [
    "<h3><b><font color=Crimson>3.c - TF IDF Weighted Word2Vec</font></b></h3>"
   ]
  },
  {
   "cell_type": "code",
   "execution_count": 18,
   "metadata": {},
   "outputs": [],
   "source": [
    "doc_id = 0\n",
    "tf_idf_w2v_title_weight = []\n",
    "#for every title we build a weighted vector representation\n",
    "for i in apparel_data['title']:\n",
    "    tf_idf_w2v_title_weight.append(build_avg_vec(i, 300, doc_id,'tf_idf_weighted'))\n",
    "    doc_id += 1\n",
    "#w2v_title = np.array(# number of doc in courpus * 300), each row corresponds to a doc \n",
    "tf_idf_w2v_title_weight = np.array(tf_idf_w2v_title_weight)"
   ]
  },
  {
   "cell_type": "code",
   "execution_count": 19,
   "metadata": {},
   "outputs": [
    {
     "data": {
      "text/plain": [
       "(16042, 300)"
      ]
     },
     "execution_count": 19,
     "metadata": {},
     "output_type": "execute_result"
    }
   ],
   "source": [
    "tf_idf_w2v_title_weight.shape"
   ]
  },
  {
   "cell_type": "markdown",
   "metadata": {},
   "source": [
    "<p style=\"font-size:22px;text-align:center\"><b><font color=Turquoise>Brand and Color Based Product Similarity</font></b></p>"
   ]
  },
  {
   "cell_type": "markdown",
   "metadata": {},
   "source": [
    "<h3><b><font color=Crimson>One Hot Encoding (Weighted Similarity Using Brand & Color)</font></b></h3>"
   ]
  },
  {
   "cell_type": "code",
   "execution_count": 20,
   "metadata": {},
   "outputs": [],
   "source": [
    "#some of the brand values are empty. \n",
    "#need to replace Null with string \"NULL\"\n",
    "apparel_data['brand'].fillna(value=\"Not Given\", inplace=True)\n",
    "\n",
    "#replace spaces with hypen\n",
    "brands = [x.replace(\" \", \"-\") for x in apparel_data['brand'].values]\n",
    "colors = [x.replace(\" \", \"-\") for x in apparel_data['color'].values]\n",
    "\n",
    "brand_vectorizer = CountVectorizer()\n",
    "brand_features = brand_vectorizer.fit_transform(brands)\n",
    "\n",
    "color_vectorizer = CountVectorizer()\n",
    "color_features = color_vectorizer.fit_transform(colors)"
   ]
  },
  {
   "cell_type": "markdown",
   "metadata": {},
   "source": [
    "<p style=\"font-size:22px;text-align:center\"><b><font color=Turquoise>Image Based Product Similarity</font></b></p>"
   ]
  },
  {
   "cell_type": "markdown",
   "metadata": {},
   "source": [
    "<h3><b><font color=Crimson>Visual Features Based Product Similarity</font></b></h3>"
   ]
  },
  {
   "cell_type": "code",
   "execution_count": 21,
   "metadata": {},
   "outputs": [],
   "source": [
    "from keras.preprocessing.image import ImageDataGenerator\n",
    "from keras.models import Sequential\n",
    "from keras.layers import Dropout, Flatten, Dense\n",
    "from keras import applications\n",
    "\n",
    "#load the features and corresponding ASINS info\n",
    "bottleneck_features_train = np.load('16k_data_cnn_features.npy')\n",
    "\n",
    "asins = np.load('16k_data_cnn_feature_asins.npy')\n",
    "\n",
    "asins = list(asins)\n",
    "df_asins = list(apparel_data['asin'])"
   ]
  },
  {
   "cell_type": "markdown",
   "metadata": {},
   "source": [
    "<p style=\"font-size:22px;text-align:center\"><b><font color=Turquoise>Product Similarity</font></b></p>"
   ]
  },
  {
   "cell_type": "code",
   "execution_count": 95,
   "metadata": {},
   "outputs": [],
   "source": [
    "def get_similar_products(title_technique, doc_id, wt, wb, wc, wi, num_results):\n",
    "    doc_id = asins.index(df_asins[doc_id])\n",
    "    \n",
    "    title_dist  = pairwise_distances(title_technique, title_technique[doc_id].reshape(1,-1))\n",
    "    brand_dist = pairwise_distances(brand_features, brand_features[doc_id])\n",
    "    color_dist = pairwise_distances(color_features, color_features[doc_id])\n",
    "    bottleneck_features_dist = pairwise_distances(bottleneck_features_train, bottleneck_features_train[doc_id].reshape(1,-1))\n",
    "    \n",
    "    pairwise_dist = (wt * title_dist +  wb * brand_dist + wc * color_dist + wi * bottleneck_features_dist)/float(wt + wb + wc + wi)\n",
    "\n",
    "    indices = np.argsort(pairwise_dist.flatten())[0:num_results]\n",
    "    \n",
    "    pdists  = np.sort(pairwise_dist.flatten())[0:num_results]\n",
    "    \n",
    "    for i in range(len(indices)):\n",
    "        rows = apparel_data[['medium_image_url','title','brand','color']].loc[apparel_data['asin']==asins[indices[i]]]\n",
    "        for indx, row in rows.iterrows():\n",
    "            display(Image(url=row['medium_image_url'], embed=True))\n",
    "            print('Product Title: ', row['title'])\n",
    "            print('Brand:', row['brand'])\n",
    "            print('Color:', row['color'])\n",
    "            print('Euclidean Distance From The Query Image:', pdists[i])\n",
    "            print('Amazon URL: www.amzon.com/dp/'+ asins[indices[i]])"
   ]
  },
  {
   "cell_type": "markdown",
   "metadata": {},
   "source": [
    "<p style=\"font-size:15px\">For Title text, we have bunch of techniques;<br><br>\n",
    "**BoW** - bow_title_features<br>\n",
    "**TF-IDF** - tfidf_title_features<br>\n",
    "**Average Word2Vec** - avg_w2v_title<br>\n",
    "**IDF Weighted W2V** - idf_w2v_title_weight<br>\n",
    "**TFIDF Weighted W2V** - tf_idf_w2v_title_weight</p>\n",
    "\n",
    "_We can easily use any of above technique in the given function._<br>\n",
    "\n",
    "<font color=blue>get_similar_products</font>(title_technique, doc_id, wt, wb, wc, wi, num_results):<br>\n",
    "where,<br>\n",
    "title_technique - _use any of above technique for title text vector_<br>\n",
    "wt - _title vector weight_<br>\n",
    "wb - _brand vector weight_<br>\n",
    "wc - _color vector weight_<br>\n",
    "wi - _image vector weight_<br>\n",
    "num_results - _number of results_"
   ]
  },
  {
   "cell_type": "code",
   "execution_count": 104,
   "metadata": {
    "scrolled": true
   },
   "outputs": [
    {
     "data": {
      "image/jpeg": "[encoded data removed]",
      "text/plain": [
       "<IPython.core.display.Image object>"
      ]
     },
     "metadata": {},
     "output_type": "display_data"
    },
    {
     "name": "stdout",
     "output_type": "stream",
     "text": [
      "Product Title:  burnt umber tiger tshirt zebra stripes xl  xxl \n",
      "Brand: Si Row\n",
      "Color: Brown\n",
      "Euclidean Distance From The Query Image: 3.373845247551799e-06\n",
      "Amazon URL: www.amzon.com/dp/B00JXQB5FQ\n"
     ]
    },
    {
     "data": {
      "image/jpeg": "[encoded data removed]",
      "text/plain": [
       "<IPython.core.display.Image object>"
      ]
     },
     "metadata": {},
     "output_type": "display_data"
    },
    {
     "name": "stdout",
     "output_type": "stream",
     "text": [
      "Product Title:  pink tiger tshirt zebra stripes xl  xxl \n",
      "Brand: Si Row\n",
      "Color: Pink\n",
      "Euclidean Distance From The Query Image: 16.95807681260898\n",
      "Amazon URL: www.amzon.com/dp/B00JXQASS6\n"
     ]
    },
    {
     "data": {
      "image/jpeg": "[encoded data removed]",
      "text/plain": [
       "<IPython.core.display.Image object>"
      ]
     },
     "metadata": {},
     "output_type": "display_data"
    },
    {
     "name": "stdout",
     "output_type": "stream",
     "text": [
      "Product Title:  yellow tiger tshirt tiger stripes  l \n",
      "Brand: Si Row\n",
      "Color: Yellow\n",
      "Euclidean Distance From The Query Image: 22.787518878808765\n",
      "Amazon URL: www.amzon.com/dp/B00JXQCUIC\n"
     ]
    },
    {
     "data": {
      "image/jpeg": "[encoded data removed]",
      "text/plain": [
       "<IPython.core.display.Image object>"
      ]
     },
     "metadata": {},
     "output_type": "display_data"
    },
    {
     "name": "stdout",
     "output_type": "stream",
     "text": [
      "Product Title:  brown  white tiger tshirt tiger stripes xl  xxl \n",
      "Brand: Si Row\n",
      "Color: Brown\n",
      "Euclidean Distance From The Query Image: 24.128358339277394\n",
      "Amazon URL: www.amzon.com/dp/B00JXQCWTO\n"
     ]
    },
    {
     "data": {
      "image/jpeg": "[encoded data removed]",
      "text/plain": [
       "<IPython.core.display.Image object>"
      ]
     },
     "metadata": {},
     "output_type": "display_data"
    },
    {
     "name": "stdout",
     "output_type": "stream",
     "text": [
      "Product Title:  kawaii pastel tops tees pink flower design \n",
      "Brand: Namnoi Clothing Store\n",
      "Color: As Show\n",
      "Euclidean Distance From The Query Image: 26.120131982650587\n",
      "Amazon URL: www.amzon.com/dp/B071FCWD97\n"
     ]
    },
    {
     "data": {
      "image/jpeg": "[encoded data removed]",
      "text/plain": [
       "<IPython.core.display.Image object>"
      ]
     },
     "metadata": {},
     "output_type": "display_data"
    },
    {
     "name": "stdout",
     "output_type": "stream",
     "text": [
      "Product Title:  womens thin style tops tees pastel watermelon print \n",
      "Brand: Namnoi Clothing Store\n",
      "Color: As show\n",
      "Euclidean Distance From The Query Image: 26.16962557080502\n",
      "Amazon URL: www.amzon.com/dp/B01JUNHBRM\n"
     ]
    },
    {
     "data": {
      "image/jpeg": "[encoded data removed]",
      "text/plain": [
       "<IPython.core.display.Image object>"
      ]
     },
     "metadata": {},
     "output_type": "display_data"
    },
    {
     "name": "stdout",
     "output_type": "stream",
     "text": [
      "Product Title:  kawaii pastel tops tees baby blue flower design \n",
      "Brand: Namnoi Clothing Store\n",
      "Color: As Show\n",
      "Euclidean Distance From The Query Image: 26.219242935784152\n",
      "Amazon URL: www.amzon.com/dp/B071SBCY9W\n"
     ]
    },
    {
     "data": {
      "image/jpeg": "[encoded data removed]",
      "text/plain": [
       "<IPython.core.display.Image object>"
      ]
     },
     "metadata": {},
     "output_type": "display_data"
    },
    {
     "name": "stdout",
     "output_type": "stream",
     "text": [
      "Product Title:  edv cheetah run purple multi xl \n",
      "Brand: Styleco\n",
      "Color: White\n",
      "Euclidean Distance From The Query Image: 26.382465447639824\n",
      "Amazon URL: www.amzon.com/dp/B01CUPYBM0\n"
     ]
    },
    {
     "data": {
      "image/jpeg": "[encoded data removed]",
      "text/plain": [
       "<IPython.core.display.Image object>"
      ]
     },
     "metadata": {},
     "output_type": "display_data"
    },
    {
     "name": "stdout",
     "output_type": "stream",
     "text": [
      "Product Title:  red  pink floral heel sleeveless shirt xl  xxl \n",
      "Brand: Si Row\n",
      "Color: Red\n",
      "Euclidean Distance From The Query Image: 26.408263100813976\n",
      "Amazon URL: www.amzon.com/dp/B00JV63QQE\n"
     ]
    },
    {
     "data": {
      "image/jpeg": "[encoded data removed]",
      "text/plain": [
       "<IPython.core.display.Image object>"
      ]
     },
     "metadata": {},
     "output_type": "display_data"
    },
    {
     "name": "stdout",
     "output_type": "stream",
     "text": [
      "Product Title:  moana logo adults hot v neck shirt black xxl \n",
      "Brand: BOBOB\n",
      "Color: Black\n",
      "Euclidean Distance From The Query Image: 26.413662332019467\n",
      "Amazon URL: www.amzon.com/dp/B01LX6H43D\n"
     ]
    }
   ],
   "source": [
    "#title_technique - idf_w2v_title_weight\n",
    "#wt - title vector weight = 10     #wb - brand vector weight = 50\n",
    "#wc - color vector weight = 10     #wi - image vector weight = 80\n",
    "get_similar_products(idf_w2v_title_weight, 12566, 10, 50, 10, 80, 10)"
   ]
  },
  {
   "cell_type": "code",
   "execution_count": 102,
   "metadata": {
    "scrolled": true
   },
   "outputs": [
    {
     "data": {
      "image/jpeg": "[encoded data removed]",
      "text/plain": [
       "<IPython.core.display.Image object>"
      ]
     },
     "metadata": {},
     "output_type": "display_data"
    },
    {
     "name": "stdout",
     "output_type": "stream",
     "text": [
      "Product Title:  burnt umber tiger tshirt zebra stripes xl  xxl \n",
      "Brand: Si Row\n",
      "Color: Brown\n",
      "Euclidean Distance From The Query Image: 2.530383935663849e-06\n",
      "Amazon URL: www.amzon.com/dp/B00JXQB5FQ\n"
     ]
    },
    {
     "data": {
      "image/jpeg": "[encoded data removed]",
      "text/plain": [
       "<IPython.core.display.Image object>"
      ]
     },
     "metadata": {},
     "output_type": "display_data"
    },
    {
     "name": "stdout",
     "output_type": "stream",
     "text": [
      "Product Title:  pink tiger tshirt zebra stripes xl  xxl \n",
      "Brand: Si Row\n",
      "Color: Pink\n",
      "Euclidean Distance From The Query Image: 12.626594315317861\n",
      "Amazon URL: www.amzon.com/dp/B00JXQASS6\n"
     ]
    },
    {
     "data": {
      "image/jpeg": "[encoded data removed]",
      "text/plain": [
       "<IPython.core.display.Image object>"
      ]
     },
     "metadata": {},
     "output_type": "display_data"
    },
    {
     "name": "stdout",
     "output_type": "stream",
     "text": [
      "Product Title:  yellow tiger tshirt tiger stripes  l \n",
      "Brand: Si Row\n",
      "Color: Yellow\n",
      "Euclidean Distance From The Query Image: 17.22285494363772\n",
      "Amazon URL: www.amzon.com/dp/B00JXQCUIC\n"
     ]
    },
    {
     "data": {
      "image/jpeg": "[encoded data removed]",
      "text/plain": [
       "<IPython.core.display.Image object>"
      ]
     },
     "metadata": {},
     "output_type": "display_data"
    },
    {
     "name": "stdout",
     "output_type": "stream",
     "text": [
      "Product Title:  brown  white tiger tshirt tiger stripes xl  xxl \n",
      "Brand: Si Row\n",
      "Color: Brown\n",
      "Euclidean Distance From The Query Image: 18.317881150626008\n",
      "Amazon URL: www.amzon.com/dp/B00JXQCWTO\n"
     ]
    },
    {
     "data": {
      "image/jpeg": "[encoded data removed]",
      "text/plain": [
       "<IPython.core.display.Image object>"
      ]
     },
     "metadata": {},
     "output_type": "display_data"
    },
    {
     "name": "stdout",
     "output_type": "stream",
     "text": [
      "Product Title:  kawaii pastel tops tees pink flower design \n",
      "Brand: Namnoi Clothing Store\n",
      "Color: As Show\n",
      "Euclidean Distance From The Query Image: 19.644639535312525\n",
      "Amazon URL: www.amzon.com/dp/B071FCWD97\n"
     ]
    },
    {
     "data": {
      "image/jpeg": "[encoded data removed]",
      "text/plain": [
       "<IPython.core.display.Image object>"
      ]
     },
     "metadata": {},
     "output_type": "display_data"
    },
    {
     "name": "stdout",
     "output_type": "stream",
     "text": [
      "Product Title:  womens thin style tops tees pastel watermelon print \n",
      "Brand: Namnoi Clothing Store\n",
      "Color: As show\n",
      "Euclidean Distance From The Query Image: 19.79236479318606\n",
      "Amazon URL: www.amzon.com/dp/B01JUNHBRM\n"
     ]
    },
    {
     "data": {
      "image/jpeg": "[encoded data removed]",
      "text/plain": [
       "<IPython.core.display.Image object>"
      ]
     },
     "metadata": {},
     "output_type": "display_data"
    },
    {
     "name": "stdout",
     "output_type": "stream",
     "text": [
      "Product Title:  kawaii pastel tops tees baby blue flower design \n",
      "Brand: Namnoi Clothing Store\n",
      "Color: As Show\n",
      "Euclidean Distance From The Query Image: 19.952649178885284\n",
      "Amazon URL: www.amzon.com/dp/B071SBCY9W\n"
     ]
    },
    {
     "data": {
      "image/jpeg": "[encoded data removed]",
      "text/plain": [
       "<IPython.core.display.Image object>"
      ]
     },
     "metadata": {},
     "output_type": "display_data"
    },
    {
     "name": "stdout",
     "output_type": "stream",
     "text": [
      "Product Title:  red  pink floral heel sleeveless shirt xl  xxl \n",
      "Brand: Si Row\n",
      "Color: Red\n",
      "Euclidean Distance From The Query Image: 19.958432870273462\n",
      "Amazon URL: www.amzon.com/dp/B00JV63QQE\n"
     ]
    },
    {
     "data": {
      "image/jpeg": "[encoded data removed]",
      "text/plain": [
       "<IPython.core.display.Image object>"
      ]
     },
     "metadata": {},
     "output_type": "display_data"
    },
    {
     "name": "stdout",
     "output_type": "stream",
     "text": [
      "Product Title:  miss chievous juniors striped peplum tank top medium shadowpeach \n",
      "Brand: MISS CHIEVOUS/AROUND THE WORLD APP\n",
      "Color: Black\n",
      "Euclidean Distance From The Query Image: 19.97539475513433\n",
      "Amazon URL: www.amzon.com/dp/B0177DM70S\n"
     ]
    },
    {
     "data": {
      "image/jpeg": "[encoded data removed]",
      "text/plain": [
       "<IPython.core.display.Image object>"
      ]
     },
     "metadata": {},
     "output_type": "display_data"
    },
    {
     "name": "stdout",
     "output_type": "stream",
     "text": [
      "Product Title:  chicago chicago 18 shirt women pink \n",
      "Brand: Tony Arden\n",
      "Color: Pink\n",
      "Euclidean Distance From The Query Image: 19.988787307775397\n",
      "Amazon URL: www.amzon.com/dp/B01GXAZTRY\n"
     ]
    }
   ],
   "source": [
    "#title_technique - avg_w2v_title\n",
    "#wt - title vector weight = 100     #wb - brand vector weight = 10\n",
    "#wc - color vector weight = 10     #wi - image vector weight = 80\n",
    "get_similar_products(avg_w2v_title, 12566, 100, 10, 10, 80, 10)"
   ]
  },
  {
   "cell_type": "code",
   "execution_count": 100,
   "metadata": {},
   "outputs": [
    {
     "data": {
      "image/jpeg": "[encoded data removed]",
      "text/plain": [
       "<IPython.core.display.Image object>"
      ]
     },
     "metadata": {},
     "output_type": "display_data"
    },
    {
     "name": "stdout",
     "output_type": "stream",
     "text": [
      "Product Title:  burnt umber tiger tshirt zebra stripes xl  xxl \n",
      "Brand: Si Row\n",
      "Color: Brown\n",
      "Euclidean Distance From The Query Image: 2.6496166865590042e-06\n",
      "Amazon URL: www.amzon.com/dp/B00JXQB5FQ\n"
     ]
    },
    {
     "data": {
      "image/jpeg": "[encoded data removed]",
      "text/plain": [
       "<IPython.core.display.Image object>"
      ]
     },
     "metadata": {},
     "output_type": "display_data"
    },
    {
     "name": "stdout",
     "output_type": "stream",
     "text": [
      "Product Title:  pink tiger tshirt zebra stripes xl  xxl \n",
      "Brand: Si Row\n",
      "Color: Pink\n",
      "Euclidean Distance From The Query Image: 13.869144981359534\n",
      "Amazon URL: www.amzon.com/dp/B00JXQASS6\n"
     ]
    },
    {
     "data": {
      "image/jpeg": "[encoded data removed]",
      "text/plain": [
       "<IPython.core.display.Image object>"
      ]
     },
     "metadata": {},
     "output_type": "display_data"
    },
    {
     "name": "stdout",
     "output_type": "stream",
     "text": [
      "Product Title:  yellow tiger tshirt tiger stripes  l \n",
      "Brand: Si Row\n",
      "Color: Yellow\n",
      "Euclidean Distance From The Query Image: 18.300985370265064\n",
      "Amazon URL: www.amzon.com/dp/B00JXQCUIC\n"
     ]
    },
    {
     "data": {
      "image/jpeg": "[encoded data removed]",
      "text/plain": [
       "<IPython.core.display.Image object>"
      ]
     },
     "metadata": {},
     "output_type": "display_data"
    },
    {
     "name": "stdout",
     "output_type": "stream",
     "text": [
      "Product Title:  brown  white tiger tshirt tiger stripes xl  xxl \n",
      "Brand: Si Row\n",
      "Color: Brown\n",
      "Euclidean Distance From The Query Image: 19.267898057838988\n",
      "Amazon URL: www.amzon.com/dp/B00JXQCWTO\n"
     ]
    },
    {
     "data": {
      "image/jpeg": "[encoded data removed]",
      "text/plain": [
       "<IPython.core.display.Image object>"
      ]
     },
     "metadata": {},
     "output_type": "display_data"
    },
    {
     "name": "stdout",
     "output_type": "stream",
     "text": [
      "Product Title:  kawaii pastel tops tees baby blue flower design \n",
      "Brand: Namnoi Clothing Store\n",
      "Color: As Show\n",
      "Euclidean Distance From The Query Image: 20.90220480072184\n",
      "Amazon URL: www.amzon.com/dp/B071SBCY9W\n"
     ]
    },
    {
     "data": {
      "image/jpeg": "[encoded data removed]",
      "text/plain": [
       "<IPython.core.display.Image object>"
      ]
     },
     "metadata": {},
     "output_type": "display_data"
    },
    {
     "name": "stdout",
     "output_type": "stream",
     "text": [
      "Product Title:  womens thin style tops tees pastel watermelon print \n",
      "Brand: Namnoi Clothing Store\n",
      "Color: As show\n",
      "Euclidean Distance From The Query Image: 20.953263005479297\n",
      "Amazon URL: www.amzon.com/dp/B01JUNHBRM\n"
     ]
    },
    {
     "data": {
      "image/jpeg": "[encoded data removed]",
      "text/plain": [
       "<IPython.core.display.Image object>"
      ]
     },
     "metadata": {},
     "output_type": "display_data"
    },
    {
     "name": "stdout",
     "output_type": "stream",
     "text": [
      "Product Title:  kawaii pastel tops tees pink flower design \n",
      "Brand: Namnoi Clothing Store\n",
      "Color: As Show\n",
      "Euclidean Distance From The Query Image: 20.991272828847837\n",
      "Amazon URL: www.amzon.com/dp/B071FCWD97\n"
     ]
    },
    {
     "data": {
      "image/jpeg": "[encoded data removed]",
      "text/plain": [
       "<IPython.core.display.Image object>"
      ]
     },
     "metadata": {},
     "output_type": "display_data"
    },
    {
     "name": "stdout",
     "output_type": "stream",
     "text": [
      "Product Title:  summer alpaca 3d pastel casual loose tops tee design \n",
      "Brand: Namnoi Clothing Store\n",
      "Color: As show\n",
      "Euclidean Distance From The Query Image: 21.019400664494402\n",
      "Amazon URL: www.amzon.com/dp/B01I80A93G\n"
     ]
    },
    {
     "data": {
      "image/jpeg": "[encoded data removed]",
      "text/plain": [
       "<IPython.core.display.Image object>"
      ]
     },
     "metadata": {},
     "output_type": "display_data"
    },
    {
     "name": "stdout",
     "output_type": "stream",
     "text": [
      "Product Title:  moana logo adults hot v neck shirt black xxl \n",
      "Brand: BOBOB\n",
      "Color: Black\n",
      "Euclidean Distance From The Query Image: 21.06471482223611\n",
      "Amazon URL: www.amzon.com/dp/B01LX6H43D\n"
     ]
    },
    {
     "data": {
      "image/jpeg": "[encoded data removed]",
      "text/plain": [
       "<IPython.core.display.Image object>"
      ]
     },
     "metadata": {},
     "output_type": "display_data"
    },
    {
     "name": "stdout",
     "output_type": "stream",
     "text": [
      "Product Title:  abaday multicolor cartoon cat print short sleeve longline shirt large \n",
      "Brand: ABADAY\n",
      "Color: Multi\n",
      "Euclidean Distance From The Query Image: 21.068536401110904\n",
      "Amazon URL: www.amzon.com/dp/B01CR57YY0\n"
     ]
    }
   ],
   "source": [
    "#title_technique - tfidf_title_features\n",
    "#wt - title vector weight = 1     #wb - brand vector weight = 100\n",
    "#wc - color vector weight = 10     #wi - image vector weight = 80\n",
    "get_similar_products(tfidf_title_features, 12566, 1, 100, 10, 80, 10)"
   ]
  },
  {
   "cell_type": "code",
   "execution_count": 105,
   "metadata": {},
   "outputs": [
    {
     "data": {
      "image/jpeg": "[encoded data removed]",
      "text/plain": [
       "<IPython.core.display.Image object>"
      ]
     },
     "metadata": {},
     "output_type": "display_data"
    },
    {
     "name": "stdout",
     "output_type": "stream",
     "text": [
      "Product Title:  burnt umber tiger tshirt zebra stripes xl  xxl \n",
      "Brand: Si Row\n",
      "Color: Brown\n",
      "Euclidean Distance From The Query Image: 3.9291676019624986e-07\n",
      "Amazon URL: www.amzon.com/dp/B00JXQB5FQ\n"
     ]
    },
    {
     "data": {
      "image/jpeg": "[encoded data removed]",
      "text/plain": [
       "<IPython.core.display.Image object>"
      ]
     },
     "metadata": {},
     "output_type": "display_data"
    },
    {
     "name": "stdout",
     "output_type": "stream",
     "text": [
      "Product Title:  pink tiger tshirt zebra stripes xl  xxl \n",
      "Brand: Si Row\n",
      "Color: Pink\n",
      "Euclidean Distance From The Query Image: 3.8051937868357655\n",
      "Amazon URL: www.amzon.com/dp/B00JXQASS6\n"
     ]
    },
    {
     "data": {
      "image/jpeg": "[encoded data removed]",
      "text/plain": [
       "<IPython.core.display.Image object>"
      ]
     },
     "metadata": {},
     "output_type": "display_data"
    },
    {
     "name": "stdout",
     "output_type": "stream",
     "text": [
      "Product Title:  cute pastel tops tees colorful butterfly design print size \n",
      "Brand: Namnoi Cute Tee Top\n",
      "Color: As show\n",
      "Euclidean Distance From The Query Image: 4.118904316759681\n",
      "Amazon URL: www.amzon.com/dp/B019E3TD10\n"
     ]
    },
    {
     "data": {
      "image/jpeg": "[encoded data removed]",
      "text/plain": [
       "<IPython.core.display.Image object>"
      ]
     },
     "metadata": {},
     "output_type": "display_data"
    },
    {
     "name": "stdout",
     "output_type": "stream",
     "text": [
      "Product Title:  adults cotton custom sesame street live family v neck shirt black xxl \n",
      "Brand: Jessico\n",
      "Color: Black\n",
      "Euclidean Distance From The Query Image: 4.1192796220332\n",
      "Amazon URL: www.amzon.com/dp/B01LWTSLVC\n"
     ]
    },
    {
     "data": {
      "image/jpeg": "[encoded data removed]",
      "text/plain": [
       "<IPython.core.display.Image object>"
      ]
     },
     "metadata": {},
     "output_type": "display_data"
    },
    {
     "name": "stdout",
     "output_type": "stream",
     "text": [
      "Product Title:  womens thin style tops tees pastel watermelon print \n",
      "Brand: Namnoi Clothing Store\n",
      "Color: As show\n",
      "Euclidean Distance From The Query Image: 4.125464550300368\n",
      "Amazon URL: www.amzon.com/dp/B01JUNHBRM\n"
     ]
    },
    {
     "data": {
      "image/jpeg": "[encoded data removed]",
      "text/plain": [
       "<IPython.core.display.Image object>"
      ]
     },
     "metadata": {},
     "output_type": "display_data"
    },
    {
     "name": "stdout",
     "output_type": "stream",
     "text": [
      "Product Title:  denim  supply ralph lauren womens floral print scalloped blouse multi \n",
      "Brand: Denim & Supply\n",
      "Color: Blue\n",
      "Euclidean Distance From The Query Image: 4.126437011639948\n",
      "Amazon URL: www.amzon.com/dp/B06XG3CP9S\n"
     ]
    },
    {
     "data": {
      "image/jpeg": "[encoded data removed]",
      "text/plain": [
       "<IPython.core.display.Image object>"
      ]
     },
     "metadata": {},
     "output_type": "display_data"
    },
    {
     "name": "stdout",
     "output_type": "stream",
     "text": [
      "Product Title:  five finger death punch womens pink print 2014 tour girls jr soft tee black \n",
      "Brand: Five Finger Death Punch\n",
      "Color: 02Black\n",
      "Euclidean Distance From The Query Image: 4.128690960726806\n",
      "Amazon URL: www.amzon.com/dp/B0148ROP3S\n"
     ]
    },
    {
     "data": {
      "image/jpeg": "[encoded data removed]",
      "text/plain": [
       "<IPython.core.display.Image object>"
      ]
     },
     "metadata": {},
     "output_type": "display_data"
    },
    {
     "name": "stdout",
     "output_type": "stream",
     "text": [
      "Product Title:  gold hawk womens asymmetrical silk tank white large \n",
      "Brand: Gold Hawk\n",
      "Color: White\n",
      "Euclidean Distance From The Query Image: 4.134229604984346\n",
      "Amazon URL: www.amzon.com/dp/B01MY7BA8I\n"
     ]
    },
    {
     "data": {
      "image/jpeg": "[encoded data removed]",
      "text/plain": [
       "<IPython.core.display.Image object>"
      ]
     },
     "metadata": {},
     "output_type": "display_data"
    },
    {
     "name": "stdout",
     "output_type": "stream",
     "text": [
      "Product Title:  womens rock kasbah movie bill murray tshirts casual pink size l \n",
      "Brand: Cherish Tee\n",
      "Color: Pink\n",
      "Euclidean Distance From The Query Image: 4.137308670609317\n",
      "Amazon URL: www.amzon.com/dp/B017N7DWYI\n"
     ]
    },
    {
     "data": {
      "image/jpeg": "[encoded data removed]",
      "text/plain": [
       "<IPython.core.display.Image object>"
      ]
     },
     "metadata": {},
     "output_type": "display_data"
    },
    {
     "name": "stdout",
     "output_type": "stream",
     "text": [
      "Product Title:  red  pink floral heel sleeveless shirt xl  xxl \n",
      "Brand: Si Row\n",
      "Color: Red\n",
      "Euclidean Distance From The Query Image: 4.153187050981504\n",
      "Amazon URL: www.amzon.com/dp/B00JV63QQE\n"
     ]
    }
   ],
   "source": [
    "#title_technique - tf_idf_w2v_title_weight\n",
    "#wt - title vector weight = 1     #wb - brand vector weight = 50\n",
    "#wc - color vector weight = 100     #wi - image vector weight = 10\n",
    "get_similar_products(tf_idf_w2v_title_weight, 12566, 1, 50, 100, 10, 10)\n",
    "\n",
    "#by just giving maximum weight to the color, the result doesn't change much #bow_title_features"
   ]
  },
  {
   "cell_type": "code",
   "execution_count": 106,
   "metadata": {},
   "outputs": [
    {
     "data": {
      "image/jpeg": "[encoded data removed]",
      "text/plain": [
       "<IPython.core.display.Image object>"
      ]
     },
     "metadata": {},
     "output_type": "display_data"
    },
    {
     "name": "stdout",
     "output_type": "stream",
     "text": [
      "Product Title:  burnt umber tiger tshirt zebra stripes xl  xxl \n",
      "Brand: Si Row\n",
      "Color: Brown\n",
      "Euclidean Distance From The Query Image: 9.488940122537315e-07\n",
      "Amazon URL: www.amzon.com/dp/B00JXQB5FQ\n"
     ]
    },
    {
     "data": {
      "image/jpeg": "[encoded data removed]",
      "text/plain": [
       "<IPython.core.display.Image object>"
      ]
     },
     "metadata": {},
     "output_type": "display_data"
    },
    {
     "name": "stdout",
     "output_type": "stream",
     "text": [
      "Product Title:  pink tiger tshirt zebra stripes xl  xxl \n",
      "Brand: Si Row\n",
      "Color: Pink\n",
      "Euclidean Distance From The Query Image: 6.92555962351552\n",
      "Amazon URL: www.amzon.com/dp/B00JXQASS6\n"
     ]
    },
    {
     "data": {
      "image/jpeg": "[encoded data removed]",
      "text/plain": [
       "<IPython.core.display.Image object>"
      ]
     },
     "metadata": {},
     "output_type": "display_data"
    },
    {
     "name": "stdout",
     "output_type": "stream",
     "text": [
      "Product Title:  yellow tiger tshirt tiger stripes  l \n",
      "Brand: Si Row\n",
      "Color: Yellow\n",
      "Euclidean Distance From The Query Image: 8.355192884253189\n",
      "Amazon URL: www.amzon.com/dp/B00JXQCUIC\n"
     ]
    },
    {
     "data": {
      "image/jpeg": "[encoded data removed]",
      "text/plain": [
       "<IPython.core.display.Image object>"
      ]
     },
     "metadata": {},
     "output_type": "display_data"
    },
    {
     "name": "stdout",
     "output_type": "stream",
     "text": [
      "Product Title:  brown  white tiger tshirt tiger stripes xl  xxl \n",
      "Brand: Si Row\n",
      "Color: Brown\n",
      "Euclidean Distance From The Query Image: 8.666524721060153\n",
      "Amazon URL: www.amzon.com/dp/B00JXQCWTO\n"
     ]
    },
    {
     "data": {
      "image/jpeg": "[encoded data removed]",
      "text/plain": [
       "<IPython.core.display.Image object>"
      ]
     },
     "metadata": {},
     "output_type": "display_data"
    },
    {
     "name": "stdout",
     "output_type": "stream",
     "text": [
      "Product Title:  christian siriano womens runway style chiffon sleeve blouse xxlarge grey stripe \n",
      "Brand: Christian Siriano\n",
      "Color: Grey Stripe\n",
      "Euclidean Distance From The Query Image: 8.857377756058327\n",
      "Amazon URL: www.amzon.com/dp/B00L4KJY5M\n"
     ]
    },
    {
     "data": {
      "image/jpeg": "[encoded data removed]",
      "text/plain": [
       "<IPython.core.display.Image object>"
      ]
     },
     "metadata": {},
     "output_type": "display_data"
    },
    {
     "name": "stdout",
     "output_type": "stream",
     "text": [
      "Product Title:  cute pastel tops tees colorful butterfly design print size \n",
      "Brand: Namnoi Cute Tee Top\n",
      "Color: As show\n",
      "Euclidean Distance From The Query Image: 9.036006927670922\n",
      "Amazon URL: www.amzon.com/dp/B019E3TD10\n"
     ]
    },
    {
     "data": {
      "image/jpeg": "[encoded data removed]",
      "text/plain": [
       "<IPython.core.display.Image object>"
      ]
     },
     "metadata": {},
     "output_type": "display_data"
    },
    {
     "name": "stdout",
     "output_type": "stream",
     "text": [
      "Product Title:  energie white tank top sleeveless size xs nwt  movaz \n",
      "Brand: Energie\n",
      "Color: White\n",
      "Euclidean Distance From The Query Image: 9.049970213850578\n",
      "Amazon URL: www.amzon.com/dp/B00Z8RY6EG\n"
     ]
    },
    {
     "data": {
      "image/jpeg": "[encoded data removed]",
      "text/plain": [
       "<IPython.core.display.Image object>"
      ]
     },
     "metadata": {},
     "output_type": "display_data"
    },
    {
     "name": "stdout",
     "output_type": "stream",
     "text": [
      "Product Title:  original fashion detachable shirt false collarelegant organza false collar \n",
      "Brand: Black Temptation\n",
      "Color: Blank\n",
      "Euclidean Distance From The Query Image: 9.088427391813433\n",
      "Amazon URL: www.amzon.com/dp/B00WQWRLR0\n"
     ]
    },
    {
     "data": {
      "image/jpeg": "[encoded data removed]",
      "text/plain": [
       "<IPython.core.display.Image object>"
      ]
     },
     "metadata": {},
     "output_type": "display_data"
    },
    {
     "name": "stdout",
     "output_type": "stream",
     "text": [
      "Product Title:  jm collection plus size shortsleeve crochettrim top size 0x \n",
      "Brand: JM Collection\n",
      "Color: Clear Mint\n",
      "Euclidean Distance From The Query Image: 9.09151287153124\n",
      "Amazon URL: www.amzon.com/dp/B01GQNE4XI\n"
     ]
    },
    {
     "data": {
      "image/jpeg": "[encoded data removed]",
      "text/plain": [
       "<IPython.core.display.Image object>"
      ]
     },
     "metadata": {},
     "output_type": "display_data"
    },
    {
     "name": "stdout",
     "output_type": "stream",
     "text": [
      "Product Title:  kawaii pastel tops tees baby blue flower design \n",
      "Brand: Namnoi Clothing Store\n",
      "Color: As Show\n",
      "Euclidean Distance From The Query Image: 9.101515985839361\n",
      "Amazon URL: www.amzon.com/dp/B071SBCY9W\n"
     ]
    }
   ],
   "source": [
    "#title_technique - bow_title_features\n",
    "#wt - title vector weight = 60     #wb - brand vector weight = 100\n",
    "#wc - color vector weight = 10     #wi - image vector weight = 30\n",
    "get_similar_products(bow_title_features, 12566, 60, 100, 10, 30, 10)\n",
    "\n",
    "#shows completely different results"
   ]
  },
  {
   "cell_type": "markdown",
   "metadata": {},
   "source": [
    "<h3><font color=MediumVioletRed>Summary and Observation</font></h3>"
   ]
  },
  {
   "cell_type": "markdown",
   "metadata": {},
   "source": [
    "<p style=\"font-size:15px\">Here we used Title text, Brand, Color and Image features to recommend similar products.<br><br>\n",
    "1. For Title text, we used bunch of techniques; **BoW, TF-IDF, Average Word2Vec, IDF Weighted W2V** and **TFIDF Weighted W2V**.<br>\n",
    "_And It is observed that, by just changing title text technique, the result doesn't change much._<br>\n",
    "2. For Brand and Color, we used **One-Hot-Encoding Technique** and<br>\n",
    "3. For Image, used one of the very popolar ConvNet - **VGG16**.<br><br>\n",
    "After constructing all these vectors, we concatenated them.<br><br>\n",
    "Now let's assume, we want to prefer showing our customers the products of the same brand OR If we want to pick or show products of the same color, then all we have to modify the **Euclidean Distance**, simply take **Weighted Euclidean Distance**.<br>\n",
    "For that, we have to assign _weights_ to each vector and simply multiply each elements of the vector with the assigned weights. After multiplying, just take the Euclidean Distance, which is extractedly similar to the Weighted Euclidean Distance in concept.<br><br>\n",
    "After doing this, what we get;\n",
    "<font color=red>For Eg.</font><br>\n",
    "<p style=\"text-align:center\">Weight for Title = 10<br>\n",
    "Weight for Brand = 50<br>\n",
    "Weight for Color = 20<br>\n",
    "Weight for Image = 10<br><br></p>\n",
    "In this case, since the brand weight is greater, we end up preferring products of the same brand. **By just changing the weight, we can easily give our preference for the same brand or color**.\n",
    "</p>"
   ]
  }
 ],
 "metadata": {
  "kernelspec": {
   "display_name": "Python 3",
   "language": "python",
   "name": "python3"
  },
  "language_info": {
   "codemirror_mode": {
    "name": "ipython",
    "version": 3
   },
   "file_extension": ".py",
   "mimetype": "text/x-python",
   "name": "python",
   "nbconvert_exporter": "python",
   "pygments_lexer": "ipython3",
   "version": "3.6.5"
  }
 },
 "nbformat": 4,
 "nbformat_minor": 2
}
